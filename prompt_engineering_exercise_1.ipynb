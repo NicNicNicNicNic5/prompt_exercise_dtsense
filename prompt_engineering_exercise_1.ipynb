{
 "cells": [
  {
   "cell_type": "code",
   "execution_count": 6,
   "metadata": {},
   "outputs": [
    {
     "name": "stdout",
     "output_type": "stream",
     "text": [
      "Requirement already satisfied: openai in c:\\users\\user\\appdata\\local\\programs\\python\\python39\\lib\\site-packages (1.52.0)\n",
      "Requirement already satisfied: sniffio in c:\\users\\user\\appdata\\local\\programs\\python\\python39\\lib\\site-packages (from openai) (1.3.1)\n",
      "Requirement already satisfied: distro<2,>=1.7.0 in c:\\users\\user\\appdata\\local\\programs\\python\\python39\\lib\\site-packages (from openai) (1.9.0)\n",
      "Requirement already satisfied: pydantic<3,>=1.9.0 in c:\\users\\user\\appdata\\local\\programs\\python\\python39\\lib\\site-packages (from openai) (2.9.2)\n",
      "Requirement already satisfied: jiter<1,>=0.4.0 in c:\\users\\user\\appdata\\local\\programs\\python\\python39\\lib\\site-packages (from openai) (0.6.1)\n",
      "Requirement already satisfied: anyio<5,>=3.5.0 in c:\\users\\user\\appdata\\local\\programs\\python\\python39\\lib\\site-packages (from openai) (4.6.2.post1)\n",
      "Requirement already satisfied: typing-extensions<5,>=4.11 in c:\\users\\user\\appdata\\roaming\\python\\python39\\site-packages (from openai) (4.12.2)\n",
      "Requirement already satisfied: tqdm>4 in c:\\users\\user\\appdata\\local\\programs\\python\\python39\\lib\\site-packages (from openai) (4.66.5)\n",
      "Requirement already satisfied: httpx<1,>=0.23.0 in c:\\users\\user\\appdata\\local\\programs\\python\\python39\\lib\\site-packages (from openai) (0.27.2)\n",
      "Requirement already satisfied: exceptiongroup>=1.0.2 in c:\\users\\user\\appdata\\roaming\\python\\python39\\site-packages (from anyio<5,>=3.5.0->openai) (1.2.2)\n",
      "Requirement already satisfied: idna>=2.8 in c:\\users\\user\\appdata\\roaming\\python\\python39\\site-packages (from anyio<5,>=3.5.0->openai) (3.10)\n",
      "Requirement already satisfied: httpcore==1.* in c:\\users\\user\\appdata\\local\\programs\\python\\python39\\lib\\site-packages (from httpx<1,>=0.23.0->openai) (1.0.6)\n",
      "Requirement already satisfied: certifi in c:\\users\\user\\appdata\\roaming\\python\\python39\\site-packages (from httpx<1,>=0.23.0->openai) (2024.8.30)\n",
      "Requirement already satisfied: h11<0.15,>=0.13 in c:\\users\\user\\appdata\\local\\programs\\python\\python39\\lib\\site-packages (from httpcore==1.*->httpx<1,>=0.23.0->openai) (0.14.0)\n",
      "Requirement already satisfied: annotated-types>=0.6.0 in c:\\users\\user\\appdata\\local\\programs\\python\\python39\\lib\\site-packages (from pydantic<3,>=1.9.0->openai) (0.7.0)\n",
      "Requirement already satisfied: pydantic-core==2.23.4 in c:\\users\\user\\appdata\\local\\programs\\python\\python39\\lib\\site-packages (from pydantic<3,>=1.9.0->openai) (2.23.4)\n",
      "Requirement already satisfied: colorama in c:\\users\\user\\appdata\\roaming\\python\\python39\\site-packages (from tqdm>4->openai) (0.4.6)\n"
     ]
    },
    {
     "name": "stderr",
     "output_type": "stream",
     "text": [
      "WARNING: You are using pip version 22.0.4; however, version 24.2 is available.\n",
      "You should consider upgrading via the 'C:\\Users\\User\\AppData\\Local\\Programs\\Python\\Python39\\python.exe -m pip install --upgrade pip' command.\n"
     ]
    },
    {
     "name": "stdout",
     "output_type": "stream",
     "text": [
      "Requirement already satisfied: ollama in c:\\users\\user\\appdata\\local\\programs\\python\\python39\\lib\\site-packages (0.3.3)\n",
      "Requirement already satisfied: httpx<0.28.0,>=0.27.0 in c:\\users\\user\\appdata\\local\\programs\\python\\python39\\lib\\site-packages (from ollama) (0.27.2)\n",
      "Requirement already satisfied: sniffio in c:\\users\\user\\appdata\\local\\programs\\python\\python39\\lib\\site-packages (from httpx<0.28.0,>=0.27.0->ollama) (1.3.1)\n",
      "Requirement already satisfied: httpcore==1.* in c:\\users\\user\\appdata\\local\\programs\\python\\python39\\lib\\site-packages (from httpx<0.28.0,>=0.27.0->ollama) (1.0.6)\n",
      "Requirement already satisfied: anyio in c:\\users\\user\\appdata\\local\\programs\\python\\python39\\lib\\site-packages (from httpx<0.28.0,>=0.27.0->ollama) (4.6.2.post1)\n",
      "Requirement already satisfied: idna in c:\\users\\user\\appdata\\roaming\\python\\python39\\site-packages (from httpx<0.28.0,>=0.27.0->ollama) (3.10)\n",
      "Requirement already satisfied: certifi in c:\\users\\user\\appdata\\roaming\\python\\python39\\site-packages (from httpx<0.28.0,>=0.27.0->ollama) (2024.8.30)\n",
      "Requirement already satisfied: h11<0.15,>=0.13 in c:\\users\\user\\appdata\\local\\programs\\python\\python39\\lib\\site-packages (from httpcore==1.*->httpx<0.28.0,>=0.27.0->ollama) (0.14.0)\n",
      "Requirement already satisfied: typing-extensions>=4.1 in c:\\users\\user\\appdata\\roaming\\python\\python39\\site-packages (from anyio->httpx<0.28.0,>=0.27.0->ollama) (4.12.2)\n",
      "Requirement already satisfied: exceptiongroup>=1.0.2 in c:\\users\\user\\appdata\\roaming\\python\\python39\\site-packages (from anyio->httpx<0.28.0,>=0.27.0->ollama) (1.2.2)\n"
     ]
    },
    {
     "name": "stderr",
     "output_type": "stream",
     "text": [
      "WARNING: You are using pip version 22.0.4; however, version 24.2 is available.\n",
      "You should consider upgrading via the 'C:\\Users\\User\\AppData\\Local\\Programs\\Python\\Python39\\python.exe -m pip install --upgrade pip' command.\n"
     ]
    },
    {
     "name": "stdout",
     "output_type": "stream",
     "text": [
      "Requirement already satisfied: google.generativeai in c:\\users\\user\\appdata\\local\\programs\\python\\python39\\lib\\site-packages (0.8.3)\n",
      "Requirement already satisfied: tqdm in c:\\users\\user\\appdata\\local\\programs\\python\\python39\\lib\\site-packages (from google.generativeai) (4.66.5)\n",
      "Requirement already satisfied: google-api-core in c:\\users\\user\\appdata\\local\\programs\\python\\python39\\lib\\site-packages (from google.generativeai) (2.21.0)\n",
      "Requirement already satisfied: pydantic in c:\\users\\user\\appdata\\local\\programs\\python\\python39\\lib\\site-packages (from google.generativeai) (2.9.2)\n",
      "Requirement already satisfied: google-api-python-client in c:\\users\\user\\appdata\\local\\programs\\python\\python39\\lib\\site-packages (from google.generativeai) (2.149.0)\n",
      "Requirement already satisfied: google-ai-generativelanguage==0.6.10 in c:\\users\\user\\appdata\\local\\programs\\python\\python39\\lib\\site-packages (from google.generativeai) (0.6.10)\n",
      "Requirement already satisfied: protobuf in c:\\users\\user\\appdata\\local\\programs\\python\\python39\\lib\\site-packages (from google.generativeai) (5.28.2)\n",
      "Requirement already satisfied: google-auth>=2.15.0 in c:\\users\\user\\appdata\\local\\programs\\python\\python39\\lib\\site-packages (from google.generativeai) (2.35.0)\n",
      "Requirement already satisfied: typing-extensions in c:\\users\\user\\appdata\\roaming\\python\\python39\\site-packages (from google.generativeai) (4.12.2)\n",
      "Requirement already satisfied: proto-plus<2.0.0dev,>=1.22.3 in c:\\users\\user\\appdata\\local\\programs\\python\\python39\\lib\\site-packages (from google-ai-generativelanguage==0.6.10->google.generativeai) (1.24.0)\n",
      "Requirement already satisfied: pyasn1-modules>=0.2.1 in c:\\users\\user\\appdata\\local\\programs\\python\\python39\\lib\\site-packages (from google-auth>=2.15.0->google.generativeai) (0.4.1)\n",
      "Requirement already satisfied: cachetools<6.0,>=2.0.0 in c:\\users\\user\\appdata\\local\\programs\\python\\python39\\lib\\site-packages (from google-auth>=2.15.0->google.generativeai) (5.5.0)\n",
      "Requirement already satisfied: rsa<5,>=3.1.4 in c:\\users\\user\\appdata\\local\\programs\\python\\python39\\lib\\site-packages (from google-auth>=2.15.0->google.generativeai) (4.9)\n",
      "Requirement already satisfied: googleapis-common-protos<2.0.dev0,>=1.56.2 in c:\\users\\user\\appdata\\local\\programs\\python\\python39\\lib\\site-packages (from google-api-core->google.generativeai) (1.65.0)\n",
      "Requirement already satisfied: requests<3.0.0.dev0,>=2.18.0 in c:\\users\\user\\appdata\\roaming\\python\\python39\\site-packages (from google-api-core->google.generativeai) (2.32.3)\n",
      "Requirement already satisfied: uritemplate<5,>=3.0.1 in c:\\users\\user\\appdata\\local\\programs\\python\\python39\\lib\\site-packages (from google-api-python-client->google.generativeai) (4.1.1)\n",
      "Requirement already satisfied: httplib2<1.dev0,>=0.19.0 in c:\\users\\user\\appdata\\local\\programs\\python\\python39\\lib\\site-packages (from google-api-python-client->google.generativeai) (0.22.0)\n",
      "Requirement already satisfied: google-auth-httplib2<1.0.0,>=0.2.0 in c:\\users\\user\\appdata\\local\\programs\\python\\python39\\lib\\site-packages (from google-api-python-client->google.generativeai) (0.2.0)\n",
      "Requirement already satisfied: pydantic-core==2.23.4 in c:\\users\\user\\appdata\\local\\programs\\python\\python39\\lib\\site-packages (from pydantic->google.generativeai) (2.23.4)\n",
      "Requirement already satisfied: annotated-types>=0.6.0 in c:\\users\\user\\appdata\\local\\programs\\python\\python39\\lib\\site-packages (from pydantic->google.generativeai) (0.7.0)\n",
      "Requirement already satisfied: colorama in c:\\users\\user\\appdata\\roaming\\python\\python39\\site-packages (from tqdm->google.generativeai) (0.4.6)\n",
      "Requirement already satisfied: grpcio<2.0dev,>=1.33.2 in c:\\users\\user\\appdata\\local\\programs\\python\\python39\\lib\\site-packages (from google-api-core->google.generativeai) (1.67.0)\n",
      "Requirement already satisfied: grpcio-status<2.0.dev0,>=1.33.2 in c:\\users\\user\\appdata\\local\\programs\\python\\python39\\lib\\site-packages (from google-api-core->google.generativeai) (1.67.0)\n",
      "Requirement already satisfied: pyparsing!=3.0.0,!=3.0.1,!=3.0.2,!=3.0.3,<4,>=2.4.2 in c:\\users\\user\\appdata\\local\\programs\\python\\python39\\lib\\site-packages (from httplib2<1.dev0,>=0.19.0->google-api-python-client->google.generativeai) (3.1.4)\n",
      "Requirement already satisfied: pyasn1<0.7.0,>=0.4.6 in c:\\users\\user\\appdata\\local\\programs\\python\\python39\\lib\\site-packages (from pyasn1-modules>=0.2.1->google-auth>=2.15.0->google.generativeai) (0.6.1)\n",
      "Requirement already satisfied: charset-normalizer<4,>=2 in c:\\users\\user\\appdata\\roaming\\python\\python39\\site-packages (from requests<3.0.0.dev0,>=2.18.0->google-api-core->google.generativeai) (3.4.0)\n",
      "Requirement already satisfied: certifi>=2017.4.17 in c:\\users\\user\\appdata\\roaming\\python\\python39\\site-packages (from requests<3.0.0.dev0,>=2.18.0->google-api-core->google.generativeai) (2024.8.30)\n",
      "Requirement already satisfied: urllib3<3,>=1.21.1 in c:\\users\\user\\appdata\\local\\programs\\python\\python39\\lib\\site-packages (from requests<3.0.0.dev0,>=2.18.0->google-api-core->google.generativeai) (2.2.3)\n",
      "Requirement already satisfied: idna<4,>=2.5 in c:\\users\\user\\appdata\\roaming\\python\\python39\\site-packages (from requests<3.0.0.dev0,>=2.18.0->google-api-core->google.generativeai) (3.10)\n"
     ]
    },
    {
     "name": "stderr",
     "output_type": "stream",
     "text": [
      "WARNING: You are using pip version 22.0.4; however, version 24.2 is available.\n",
      "You should consider upgrading via the 'C:\\Users\\User\\AppData\\Local\\Programs\\Python\\Python39\\python.exe -m pip install --upgrade pip' command.\n"
     ]
    },
    {
     "name": "stdout",
     "output_type": "stream",
     "text": [
      "Requirement already satisfied: python-dotenv in c:\\users\\user\\appdata\\local\\programs\\python\\python39\\lib\\site-packages (1.0.1)\n"
     ]
    },
    {
     "name": "stderr",
     "output_type": "stream",
     "text": [
      "WARNING: You are using pip version 22.0.4; however, version 24.2 is available.\n",
      "You should consider upgrading via the 'C:\\Users\\User\\AppData\\Local\\Programs\\Python\\Python39\\python.exe -m pip install --upgrade pip' command.\n"
     ]
    },
    {
     "name": "stdout",
     "output_type": "stream",
     "text": [
      "Requirement already satisfied: openai==1.52.0 in c:\\users\\user\\appdata\\local\\programs\\python\\python39\\lib\\site-packages (from -r requirements.txt (line 1)) (1.52.0)\n",
      "Requirement already satisfied: python-dotenv==1.0.1 in c:\\users\\user\\appdata\\local\\programs\\python\\python39\\lib\\site-packages (from -r requirements.txt (line 2)) (1.0.1)\n",
      "Requirement already satisfied: ollama==0.3.3 in c:\\users\\user\\appdata\\local\\programs\\python\\python39\\lib\\site-packages (from -r requirements.txt (line 3)) (0.3.3)\n",
      "Requirement already satisfied: google-generativeai==0.8.3 in c:\\users\\user\\appdata\\local\\programs\\python\\python39\\lib\\site-packages (from -r requirements.txt (line 4)) (0.8.3)\n",
      "Requirement already satisfied: tqdm>4 in c:\\users\\user\\appdata\\local\\programs\\python\\python39\\lib\\site-packages (from openai==1.52.0->-r requirements.txt (line 1)) (4.66.5)\n",
      "Requirement already satisfied: pydantic<3,>=1.9.0 in c:\\users\\user\\appdata\\local\\programs\\python\\python39\\lib\\site-packages (from openai==1.52.0->-r requirements.txt (line 1)) (2.9.2)\n",
      "Requirement already satisfied: httpx<1,>=0.23.0 in c:\\users\\user\\appdata\\local\\programs\\python\\python39\\lib\\site-packages (from openai==1.52.0->-r requirements.txt (line 1)) (0.27.2)\n",
      "Requirement already satisfied: typing-extensions<5,>=4.11 in c:\\users\\user\\appdata\\roaming\\python\\python39\\site-packages (from openai==1.52.0->-r requirements.txt (line 1)) (4.12.2)\n",
      "Requirement already satisfied: jiter<1,>=0.4.0 in c:\\users\\user\\appdata\\local\\programs\\python\\python39\\lib\\site-packages (from openai==1.52.0->-r requirements.txt (line 1)) (0.6.1)\n",
      "Requirement already satisfied: distro<2,>=1.7.0 in c:\\users\\user\\appdata\\local\\programs\\python\\python39\\lib\\site-packages (from openai==1.52.0->-r requirements.txt (line 1)) (1.9.0)\n",
      "Requirement already satisfied: sniffio in c:\\users\\user\\appdata\\local\\programs\\python\\python39\\lib\\site-packages (from openai==1.52.0->-r requirements.txt (line 1)) (1.3.1)\n",
      "Requirement already satisfied: anyio<5,>=3.5.0 in c:\\users\\user\\appdata\\local\\programs\\python\\python39\\lib\\site-packages (from openai==1.52.0->-r requirements.txt (line 1)) (4.6.2.post1)\n",
      "Requirement already satisfied: google-api-core in c:\\users\\user\\appdata\\local\\programs\\python\\python39\\lib\\site-packages (from google-generativeai==0.8.3->-r requirements.txt (line 4)) (2.21.0)\n",
      "Requirement already satisfied: protobuf in c:\\users\\user\\appdata\\local\\programs\\python\\python39\\lib\\site-packages (from google-generativeai==0.8.3->-r requirements.txt (line 4)) (5.28.2)\n",
      "Requirement already satisfied: google-api-python-client in c:\\users\\user\\appdata\\local\\programs\\python\\python39\\lib\\site-packages (from google-generativeai==0.8.3->-r requirements.txt (line 4)) (2.149.0)\n",
      "Requirement already satisfied: google-auth>=2.15.0 in c:\\users\\user\\appdata\\local\\programs\\python\\python39\\lib\\site-packages (from google-generativeai==0.8.3->-r requirements.txt (line 4)) (2.35.0)\n",
      "Requirement already satisfied: google-ai-generativelanguage==0.6.10 in c:\\users\\user\\appdata\\local\\programs\\python\\python39\\lib\\site-packages (from google-generativeai==0.8.3->-r requirements.txt (line 4)) (0.6.10)\n",
      "Requirement already satisfied: proto-plus<2.0.0dev,>=1.22.3 in c:\\users\\user\\appdata\\local\\programs\\python\\python39\\lib\\site-packages (from google-ai-generativelanguage==0.6.10->google-generativeai==0.8.3->-r requirements.txt (line 4)) (1.24.0)\n",
      "Requirement already satisfied: idna>=2.8 in c:\\users\\user\\appdata\\roaming\\python\\python39\\site-packages (from anyio<5,>=3.5.0->openai==1.52.0->-r requirements.txt (line 1)) (3.10)\n",
      "Requirement already satisfied: exceptiongroup>=1.0.2 in c:\\users\\user\\appdata\\roaming\\python\\python39\\site-packages (from anyio<5,>=3.5.0->openai==1.52.0->-r requirements.txt (line 1)) (1.2.2)\n",
      "Requirement already satisfied: pyasn1-modules>=0.2.1 in c:\\users\\user\\appdata\\local\\programs\\python\\python39\\lib\\site-packages (from google-auth>=2.15.0->google-generativeai==0.8.3->-r requirements.txt (line 4)) (0.4.1)\n",
      "Requirement already satisfied: rsa<5,>=3.1.4 in c:\\users\\user\\appdata\\local\\programs\\python\\python39\\lib\\site-packages (from google-auth>=2.15.0->google-generativeai==0.8.3->-r requirements.txt (line 4)) (4.9)\n",
      "Requirement already satisfied: cachetools<6.0,>=2.0.0 in c:\\users\\user\\appdata\\local\\programs\\python\\python39\\lib\\site-packages (from google-auth>=2.15.0->google-generativeai==0.8.3->-r requirements.txt (line 4)) (5.5.0)\n",
      "Requirement already satisfied: httpcore==1.* in c:\\users\\user\\appdata\\local\\programs\\python\\python39\\lib\\site-packages (from httpx<1,>=0.23.0->openai==1.52.0->-r requirements.txt (line 1)) (1.0.6)\n",
      "Requirement already satisfied: certifi in c:\\users\\user\\appdata\\roaming\\python\\python39\\site-packages (from httpx<1,>=0.23.0->openai==1.52.0->-r requirements.txt (line 1)) (2024.8.30)\n",
      "Requirement already satisfied: h11<0.15,>=0.13 in c:\\users\\user\\appdata\\local\\programs\\python\\python39\\lib\\site-packages (from httpcore==1.*->httpx<1,>=0.23.0->openai==1.52.0->-r requirements.txt (line 1)) (0.14.0)\n",
      "Requirement already satisfied: pydantic-core==2.23.4 in c:\\users\\user\\appdata\\local\\programs\\python\\python39\\lib\\site-packages (from pydantic<3,>=1.9.0->openai==1.52.0->-r requirements.txt (line 1)) (2.23.4)\n",
      "Requirement already satisfied: annotated-types>=0.6.0 in c:\\users\\user\\appdata\\local\\programs\\python\\python39\\lib\\site-packages (from pydantic<3,>=1.9.0->openai==1.52.0->-r requirements.txt (line 1)) (0.7.0)\n",
      "Requirement already satisfied: colorama in c:\\users\\user\\appdata\\roaming\\python\\python39\\site-packages (from tqdm>4->openai==1.52.0->-r requirements.txt (line 1)) (0.4.6)\n",
      "Requirement already satisfied: googleapis-common-protos<2.0.dev0,>=1.56.2 in c:\\users\\user\\appdata\\local\\programs\\python\\python39\\lib\\site-packages (from google-api-core->google-generativeai==0.8.3->-r requirements.txt (line 4)) (1.65.0)\n",
      "Requirement already satisfied: requests<3.0.0.dev0,>=2.18.0 in c:\\users\\user\\appdata\\roaming\\python\\python39\\site-packages (from google-api-core->google-generativeai==0.8.3->-r requirements.txt (line 4)) (2.32.3)\n",
      "Requirement already satisfied: uritemplate<5,>=3.0.1 in c:\\users\\user\\appdata\\local\\programs\\python\\python39\\lib\\site-packages (from google-api-python-client->google-generativeai==0.8.3->-r requirements.txt (line 4)) (4.1.1)\n",
      "Requirement already satisfied: google-auth-httplib2<1.0.0,>=0.2.0 in c:\\users\\user\\appdata\\local\\programs\\python\\python39\\lib\\site-packages (from google-api-python-client->google-generativeai==0.8.3->-r requirements.txt (line 4)) (0.2.0)\n",
      "Requirement already satisfied: httplib2<1.dev0,>=0.19.0 in c:\\users\\user\\appdata\\local\\programs\\python\\python39\\lib\\site-packages (from google-api-python-client->google-generativeai==0.8.3->-r requirements.txt (line 4)) (0.22.0)\n",
      "Requirement already satisfied: grpcio-status<2.0.dev0,>=1.33.2 in c:\\users\\user\\appdata\\local\\programs\\python\\python39\\lib\\site-packages (from google-api-core->google-generativeai==0.8.3->-r requirements.txt (line 4)) (1.67.0)\n",
      "Requirement already satisfied: grpcio<2.0dev,>=1.33.2 in c:\\users\\user\\appdata\\local\\programs\\python\\python39\\lib\\site-packages (from google-api-core->google-generativeai==0.8.3->-r requirements.txt (line 4)) (1.67.0)\n",
      "Requirement already satisfied: pyparsing!=3.0.0,!=3.0.1,!=3.0.2,!=3.0.3,<4,>=2.4.2 in c:\\users\\user\\appdata\\local\\programs\\python\\python39\\lib\\site-packages (from httplib2<1.dev0,>=0.19.0->google-api-python-client->google-generativeai==0.8.3->-r requirements.txt (line 4)) (3.1.4)\n",
      "Requirement already satisfied: pyasn1<0.7.0,>=0.4.6 in c:\\users\\user\\appdata\\local\\programs\\python\\python39\\lib\\site-packages (from pyasn1-modules>=0.2.1->google-auth>=2.15.0->google-generativeai==0.8.3->-r requirements.txt (line 4)) (0.6.1)\n",
      "Requirement already satisfied: charset-normalizer<4,>=2 in c:\\users\\user\\appdata\\roaming\\python\\python39\\site-packages (from requests<3.0.0.dev0,>=2.18.0->google-api-core->google-generativeai==0.8.3->-r requirements.txt (line 4)) (3.4.0)\n",
      "Requirement already satisfied: urllib3<3,>=1.21.1 in c:\\users\\user\\appdata\\local\\programs\\python\\python39\\lib\\site-packages (from requests<3.0.0.dev0,>=2.18.0->google-api-core->google-generativeai==0.8.3->-r requirements.txt (line 4)) (2.2.3)\n"
     ]
    },
    {
     "name": "stderr",
     "output_type": "stream",
     "text": [
      "WARNING: You are using pip version 22.0.4; however, version 24.2 is available.\n",
      "You should consider upgrading via the 'C:\\Users\\User\\AppData\\Local\\Programs\\Python\\Python39\\python.exe -m pip install --upgrade pip' command.\n"
     ]
    }
   ],
   "source": [
    "!pip install openai\n",
    "!pip install ollama\n",
    "!pip install google.generativeai\n",
    "!pip install python-dotenv\n",
    "!pip install -r requirements.txt"
   ]
  },
  {
   "cell_type": "code",
   "execution_count": 7,
   "metadata": {},
   "outputs": [
    {
     "name": "stdout",
     "output_type": "stream",
     "text": [
      "Package                      Version\n",
      "---------------------------- -----------\n",
      "absl-py                      2.1.0\n",
      "annotated-types              0.7.0\n",
      "anyio                        4.6.2.post1\n",
      "asttokens                    2.4.1\n",
      "astunparse                   1.6.3\n",
      "cachetools                   5.5.0\n",
      "certifi                      2024.8.30\n",
      "charset-normalizer           3.4.0\n",
      "colorama                     0.4.6\n",
      "comm                         0.2.2\n",
      "contourpy                    1.3.0\n",
      "cycler                       0.12.1\n",
      "debugpy                      1.8.6\n",
      "decorator                    5.1.1\n",
      "distlib                      0.3.9\n",
      "distro                       1.9.0\n",
      "exceptiongroup               1.2.2\n",
      "executing                    2.1.0\n",
      "filelock                     3.16.1\n",
      "flatbuffers                  24.3.25\n",
      "fonttools                    4.54.1\n",
      "gast                         0.6.0\n",
      "google-ai-generativelanguage 0.6.10\n",
      "google-api-core              2.21.0\n",
      "google-api-python-client     2.149.0\n",
      "google-auth                  2.35.0\n",
      "google-auth-httplib2         0.2.0\n",
      "google-generativeai          0.8.3\n",
      "google-pasta                 0.2.0\n",
      "googleapis-common-protos     1.65.0\n",
      "grpcio                       1.67.0\n",
      "grpcio-status                1.67.0\n",
      "h11                          0.14.0\n",
      "h5py                         3.12.1\n",
      "httpcore                     1.0.6\n",
      "httplib2                     0.22.0\n",
      "httpx                        0.27.2\n",
      "idna                         3.10\n",
      "imageio                      2.35.1\n",
      "importlib_metadata           8.5.0\n",
      "importlib_resources          6.4.5\n",
      "ipykernel                    6.29.5\n",
      "ipython                      8.18.1\n",
      "jedi                         0.19.1\n",
      "jiter                        0.6.1\n",
      "joblib                       1.4.2\n",
      "jupyter_client               8.6.3\n",
      "jupyter_core                 5.7.2\n",
      "keras                        3.6.0\n",
      "kiwisolver                   1.4.7\n",
      "lazy_loader                  0.4\n",
      "libclang                     18.1.1\n",
      "Markdown                     3.7\n",
      "markdown-it-py               3.0.0\n",
      "MarkupSafe                   3.0.1\n",
      "matplotlib                   3.9.2\n",
      "matplotlib-inline            0.1.7\n",
      "mdurl                        0.1.2\n",
      "ml-dtypes                    0.4.1\n",
      "namex                        0.0.8\n",
      "nest-asyncio                 1.6.0\n",
      "networkx                     3.2.1\n",
      "numpy                        1.26.4\n",
      "ollama                       0.3.3\n",
      "openai                       1.52.0\n",
      "opt_einsum                   3.4.0\n",
      "optree                       0.13.0\n",
      "packaging                    24.1\n",
      "pandas                       2.2.3\n",
      "parso                        0.8.4\n",
      "pillow                       10.4.0\n",
      "pip                          22.0.4\n",
      "platformdirs                 4.3.6\n",
      "prompt_toolkit               3.0.48\n",
      "proto-plus                   1.24.0\n",
      "protobuf                     5.28.2\n",
      "psutil                       6.0.0\n",
      "pure_eval                    0.2.3\n",
      "pyasn1                       0.6.1\n",
      "pyasn1_modules               0.4.1\n",
      "pydantic                     2.9.2\n",
      "pydantic_core                2.23.4\n",
      "Pygments                     2.18.0\n",
      "pyparsing                    3.1.4\n",
      "python-dateutil              2.9.0.post0\n",
      "python-dotenv                1.0.1\n",
      "pytz                         2024.2\n",
      "pywin32                      307\n",
      "pyzmq                        26.2.0\n",
      "requests                     2.32.3\n",
      "rich                         13.9.2\n",
      "rsa                          4.9\n",
      "scikit-image                 0.24.0\n",
      "scikit-learn                 1.5.2\n",
      "scipy                        1.13.1\n",
      "setuptools                   58.1.0\n",
      "six                          1.16.0\n",
      "sniffio                      1.3.1\n",
      "stack-data                   0.6.3\n",
      "tensorboard                  2.17.1\n",
      "tensorboard-data-server      0.7.2\n",
      "tensorflow                   2.17.0\n",
      "tensorflow-intel             2.17.0\n",
      "tensorflow-io-gcs-filesystem 0.31.0\n",
      "termcolor                    2.5.0\n",
      "threadpoolctl                3.5.0\n",
      "tifffile                     2024.8.30\n",
      "tornado                      6.4.1\n",
      "tqdm                         4.66.5\n",
      "traitlets                    5.14.3\n",
      "typing_extensions            4.12.2\n",
      "tzdata                       2024.2\n",
      "uritemplate                  4.1.1\n",
      "urllib3                      2.2.3\n",
      "virtualenv                   20.27.0\n",
      "wcwidth                      0.2.13\n",
      "Werkzeug                     3.0.4\n",
      "wheel                        0.44.0\n",
      "wrapt                        1.16.0\n",
      "zipp                         3.20.2\n"
     ]
    },
    {
     "name": "stderr",
     "output_type": "stream",
     "text": [
      "WARNING: You are using pip version 22.0.4; however, version 24.2 is available.\n",
      "You should consider upgrading via the 'C:\\Users\\User\\AppData\\Local\\Programs\\Python\\Python39\\python.exe -m pip install --upgrade pip' command.\n"
     ]
    }
   ],
   "source": [
    "!pip list"
   ]
  },
  {
   "cell_type": "code",
   "execution_count": 9,
   "metadata": {},
   "outputs": [
    {
     "data": {
      "text/plain": [
       "True"
      ]
     },
     "execution_count": 9,
     "metadata": {},
     "output_type": "execute_result"
    }
   ],
   "source": [
    "from dotenv import load_dotenv\n",
    "import os\n",
    "load_dotenv()"
   ]
  },
  {
   "cell_type": "markdown",
   "metadata": {},
   "source": [
    "model='qwen2.5:0.5b'"
   ]
  },
  {
   "cell_type": "markdown",
   "metadata": {},
   "source": [
    "Zero-Shot Prompting"
   ]
  },
  {
   "cell_type": "code",
   "execution_count": 13,
   "metadata": {},
   "outputs": [
    {
     "name": "stdout",
     "output_type": "stream",
     "text": [
      "Dalam konteks yang lebih luas dan kompleks, manusia dapat hidup dengan berbagai alasan. Berikut beberapa poin penting dalam mengenai hal ini:\n",
      "\n",
      "1. Tidak ada perbedaan moral: Manusia adalah hewan yang dikenal karena keutamaan mereka. Meskipun demikian, manusia memiliki moral dan keputusan yang berbeda-beda dari sisi fiksi.\n",
      "\n",
      "2. Perubahan lingkungan: Dalam jaman sekarang, ciri fisik manusia seperti tangan dan mata telah mengalami perubahan secara signifikan karena perkembangan teknologi dan kehidupan moden.\n",
      "\n",
      "3. Kecepatan pikiran: Manusia memiliki tingkat kemampuan untuk berkomunikasi dan memahami informasi yang lebih cepat dari penggunaan genetik dan alam semesta lainnya.\n",
      "\n",
      "4. Rasa rileks: Perubahan zaman telah mengubah aspek aslinya manusia, seperti kebiasaan hidup tradisional, hobi, dan nilai moral.\n",
      "\n",
      "5. Penghargaan: Kepuasan dari segala yang diciptakan dalam sejarah manusia adalah penting bagi manajemen emosi dan berkat terhadap kehidupan modern.\n",
      "\n",
      "6. Dikembangkan oleh lingkungan: Manusia merubah dirinya secara fisik, matematikasi, dan mental dengan berkonsentrasi pada pekerjaan mereka. \n",
      "\n",
      "7. Cinta yang tinggi: Banyak individu mengungsi cinta atau kegembiraan daripada hal-hal sebelumnya dalam hidup.\n",
      "\n",
      "8. Pemahaman: Dalam bahasa ilmiah, pemahaman memang penting untuk berinteraksi dengan dunia sosial dan lingkungan.\n",
      "\n",
      "9. Kekuatan binatang manusia: Ciri khas ini telah menciptakan kecenderungan yang kuat untuk bersikap, berkomunikasi, dan berinteraksi secara terampil dan kreatif.\n",
      "\n",
      "10. Jalan keluar kebebasan: Kebebasan dalam hidup mungkin menurut pengguna dalam bentuk agama, nilai-nilai, atau hobi, seperti konservatif di satu tempat dengan orang lain.\n",
      "\n",
      "Tingkat perbedaan antara manusia dan birodarasi adalah penting, sementara moral yang lebih luas mencakup setiap jenis asli. Kekuatan ini memang sangat berbeza dalam konteks individu dan lingkungan.\n"
     ]
    }
   ],
   "source": [
    "# Zero-shot prompting\n",
    "from ollama import chat\n",
    "messages = [\n",
    "  {\n",
    "    'role': 'user',\n",
    "    'content': 'Mengapa manusia bisa hidup?',\n",
    "  },\n",
    "]\n",
    "response = chat(model='qwen2.5:0.5b', messages=messages)\n",
    "print(response['message']['content'])"
   ]
  },
  {
   "cell_type": "markdown",
   "metadata": {},
   "source": [
    "One-Shot Prompting"
   ]
  },
  {
   "cell_type": "code",
   "execution_count": 32,
   "metadata": {},
   "outputs": [
    {
     "name": "stdout",
     "output_type": "stream",
     "text": [
      "20.\n"
     ]
    }
   ],
   "source": [
    "# using ollama\n",
    "import ollama\n",
    "# Menggunakan one-shot prompting\n",
    "response = ollama.chat(\n",
    "    model='qwen2.5:0.5b',\n",
    "    messages=[\n",
    "        {'role': 'user', 'content': 'Contoh: 1 x 5 itu berapa?'},\n",
    "        {'role': 'assistant', 'content': '5.'},\n",
    "        {'role': 'user', 'content': '2 x 5 x 2 itu berapa?'}\n",
    "    ]\n",
    ")\n",
    "print(response['message']['content'])"
   ]
  },
  {
   "cell_type": "markdown",
   "metadata": {},
   "source": [
    "Few-Shot Prompting"
   ]
  },
  {
   "cell_type": "code",
   "execution_count": 41,
   "metadata": {},
   "outputs": [
    {
     "name": "stdout",
     "output_type": "stream",
     "text": [
      "Kartu mempunyai beberapa ciri-karakter yang dapat membantu kita mengenali kartu tersebut. Ada keterampilan, warna, lapisan dan bentuk dasar yang dapat diidentifikasi setiap kartu. Namun, dalam praktiknya, kartu seringkali terdiri dari tiga atau lebih bagian yang berbeda, yaitu ciri kunci, seperti alamat, nama, dan email. Selain itu, kartu biasanya mempunyai tanda-tanda tertulis di area tertentu, misalnya \"Kota\", \"Nim\" atau \"Alamat\". Khususnya dalam permainan slot, pihak berwajah spesifik dapat mengidentifikasi setiap kartu dengan cara mendapatkan tiga data yang ada pada mereka. Jika ini tidak terdapat diatas, dapat disingkatkan dengan \"Jadi\", dan setiap jenis spesifik tersebut juga memiliki ciri-karakter yang dilihat.\n"
     ]
    }
   ],
   "source": [
    "\"\"\"\n",
    "Menggunakan few-shot prompting\n",
    "\"\"\"\n",
    "response = ollama.chat(\n",
    "    model='qwen2.5:0.5b',\n",
    "    messages=[\n",
    "        {'role': 'user', 'content': 'Contoh: Bagaimana api tercipta?'},\n",
    "        {'role': 'assistant', 'content': 'Dengan menggunakan gesekan 2 batu kali, terciptalah percikan api yang dapat membakar daun atau ranting dan terciptalah api.'},\n",
    "        {'role': 'user', 'content': 'Contoh: Bagaimana kertas tercipta?'},\n",
    "        {'role': 'assistant', 'content': 'kayu yang sudah diiris tipis direndam dan dihancurkan dan dikompresi dengan alat khusus sehingga tercipta selembaran basah yang kemudian dijemur dan terciptalah kertas.'},\n",
    "        {'role': 'user', 'content': 'Bagaimana kartu tercipta?'}\n",
    "    ]\n",
    ")\n",
    "print(response['message']['content'])"
   ]
  },
  {
   "cell_type": "markdown",
   "metadata": {},
   "source": [
    "Chain-of-Thought"
   ]
  },
  {
   "cell_type": "code",
   "execution_count": 43,
   "metadata": {},
   "outputs": [
    {
     "name": "stdout",
     "output_type": "stream",
     "text": [
      "Saya sangat berharap bahwa Anda tidak ingin menghitung bilangan yang besar, terutama jika itu adalah sifat khusus Anda. Sebaiknya kita fokus pada hal-hal yang lebih praktis dan sesuai dengan kekuatan Anda. Bagaimana saya bisa membantu Anda dengan menghitung 12 x 12 atau 15 x 15?\n"
     ]
    }
   ],
   "source": [
    "response = ollama.chat(\n",
    "    model='qwen2.5:0.5b',\n",
    "    messages=[\n",
    "        {'role': 'user', 'content': 'Berapa hasil 12 x 12?'},\n",
    "        {'role': 'scientist', 'content': 'Mari kita hitung langkah demi langkah: \\\n",
    "         1. 5 x 12 = 5 x (10 + 2), 2. 5 x 10 = 50, 3. 5 x 2 = 10, 4. 50 + 10 = 60, jadi totalnya adalah 60.'},\n",
    "        {'role': 'user', 'content': 'Berapakah hasil 15 x 15?'},\n",
    "    ]\n",
    ")\n",
    "print(response['message']['content'])"
   ]
  },
  {
   "cell_type": "markdown",
   "metadata": {},
   "source": [
    "ReAct"
   ]
  },
  {
   "cell_type": "code",
   "execution_count": 46,
   "metadata": {},
   "outputs": [
    {
     "name": "stdout",
     "output_type": "stream",
     "text": [
      "The capital of Canada is Ottawa.\n"
     ]
    }
   ],
   "source": [
    "response = ollama.chat(\n",
    "    model='qwen2.5:0.5b',\n",
    "    messages=[\n",
    "        {'role': 'user', 'content': 'You are a helpful assistant. Answer the following question by reasoning step-by-step before giving your final answer.'},\n",
    "        {'role': 'user', 'content': 'What is the capital of France?: \\\n",
    "         Reasoning: First, we need to consider that France is a country in Europe, and the capital of France is a well-known major city. The city serves as the political, economic, and cultural center of the country.'},\n",
    "        {'role': 'assistant', 'answer': 'The capital of France is Paris.'},\n",
    "        {'role': 'user', 'content': 'What is the capital of Canada?'},\n",
    "    ]\n",
    ")\n",
    "print(response['message']['content'])\n"
   ]
  }
 ],
 "metadata": {
  "kernelspec": {
   "display_name": "Python 3",
   "language": "python",
   "name": "python3"
  },
  "language_info": {
   "codemirror_mode": {
    "name": "ipython",
    "version": 3
   },
   "file_extension": ".py",
   "mimetype": "text/x-python",
   "name": "python",
   "nbconvert_exporter": "python",
   "pygments_lexer": "ipython3",
   "version": "3.9.13"
  }
 },
 "nbformat": 4,
 "nbformat_minor": 2
}
